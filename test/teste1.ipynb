{
 "cells": [
  {
   "cell_type": "code",
   "execution_count": 13,
   "metadata": {},
   "outputs": [],
   "source": [
    "number = [1,2,3,4,5,6,7,8,9,10]\n",
    "\n",
    "def func(b):\n",
    "    for i in range(len(b)):\n",
    "        if b[i] % 2 == 0: \n",
    "            print(f'O número {b[i]} é par!')\n",
    "        else:\n",
    "            "
   ]
  },
  {
   "cell_type": "code",
   "execution_count": 3,
   "metadata": {},
   "outputs": [
    {
     "name": "stdout",
     "output_type": "stream",
     "text": [
      "dependencia\n"
     ]
    }
   ],
   "source": [
    "nota_a = 4\n",
    "def nota(n):\n",
    "    if n >= 7:\n",
    "        print('aprovado')\n",
    "    elif n >= 4:\n",
    "        print('dependencia')\n",
    "    elif n < 4:\n",
    "        print('Reprovado')\n",
    "\n",
    "nota(nota_a)        "
   ]
  },
  {
   "cell_type": "code",
   "execution_count": null,
   "metadata": {},
   "outputs": [],
   "source": []
  }
 ],
 "metadata": {
  "kernelspec": {
   "display_name": "Python 3",
   "language": "python",
   "name": "python3"
  },
  "language_info": {
   "codemirror_mode": {
    "name": "ipython",
    "version": 3
   },
   "file_extension": ".py",
   "mimetype": "text/x-python",
   "name": "python",
   "nbconvert_exporter": "python",
   "pygments_lexer": "ipython3",
   "version": "3.11.3"
  },
  "orig_nbformat": 4
 },
 "nbformat": 4,
 "nbformat_minor": 2
}
