{
 "cells": [
  {
   "cell_type": "code",
   "execution_count": 13,
   "metadata": {},
   "outputs": [],
   "source": [
    "fun_1 = ['', '', '']\n",
    "fun_2 = ['xy^2', 'zx^2', 'x']\n",
    "def rot(a,b):\n",
    "    print(f'î({a[1]}[{b[2]}]-{a[2]}[{b[1]}]) - j({a[0]}[{b[2]}] - {a[2]}[{b[0]}]) + k({a[0]}[{b[1]}] - {a[1]}[{b[0]}])')"
   ]
  },
  {
   "cell_type": "code",
   "execution_count": 14,
   "metadata": {},
   "outputs": [
    {
     "name": "stdout",
     "output_type": "stream",
     "text": [
      "î(d/dy[x]-d/dz[zx^2]) - j(d/dx[x] - d/dz[xy^2]) + k(d/dx[zx^2] - d/dy[xy^2])\n"
     ]
    }
   ],
   "source": [
    "rot(fun_1,fun_2)"
   ]
  },
  {
   "cell_type": "code",
   "execution_count": null,
   "metadata": {},
   "outputs": [],
   "source": []
  }
 ],
 "metadata": {
  "kernelspec": {
   "display_name": "Python 3",
   "language": "python",
   "name": "python3"
  },
  "language_info": {
   "codemirror_mode": {
    "name": "ipython",
    "version": 3
   },
   "file_extension": ".py",
   "mimetype": "text/x-python",
   "name": "python",
   "nbconvert_exporter": "python",
   "pygments_lexer": "ipython3",
   "version": "3.11.3"
  },
  "orig_nbformat": 4
 },
 "nbformat": 4,
 "nbformat_minor": 2
}
